{
 "cells": [
  {
   "attachments": {},
   "cell_type": "markdown",
   "metadata": {},
   "source": [
    "### Image Generation using stable diffusion & Comfy UI "
   ]
  },
  {
   "attachments": {},
   "cell_type": "markdown",
   "metadata": {
    "id": "v-sWNFiAK24i"
   },
   "source": [
    "**Step 1: Install Dependencies**"
   ]
  },
  {
   "cell_type": "code",
   "execution_count": 5,
   "metadata": {
    "id": "vW0TSpBJZ5iC",
    "tags": []
   },
   "outputs": [],
   "source": [
    "!pip install torch torchvision torchaudio --index-url https://download.pytorch.org/whl/cu118\n",
    "!pip install diffusers transformers accelerate comfyui"
   ]
  },
  {
   "attachments": {},
   "cell_type": "markdown",
   "metadata": {},
   "source": [
    "**Step 2: Clone & Set Up ComfyUI**"
   ]
  },
  {
   "cell_type": "code",
   "execution_count": 1,
   "metadata": {
    "colab": {
     "base_uri": "https://localhost:8080/",
     "height": 452
    },
    "id": "_ZOZntZKZ5iE",
    "outputId": "ffd4ba5f-0cf1-4a38-a15a-c4035e993c20",
    "tags": []
   },
   "outputs": [],
   "source": [
    "!git clone https://github.com/comfyanonymous/ComfyUI.git\n",
    "%cd ComfyUI\n",
    "!pip install -r requirements.txt"
   ]
  },
  {
   "attachments": {},
   "cell_type": "markdown",
   "metadata": {},
   "source": [
    "**Step 3: Download Stable Diffusion v1.5 Model**"
   ]
  },
  {
   "cell_type": "code",
   "execution_count": 2,
   "metadata": {},
   "outputs": [],
   "source": [
    "from huggingface_hub import hf_hub_download\n",
    "\n",
    "model_path = \"models/checkpoints/\"\n",
    "model_filename = \"v1-5-pruned-emaonly.safetensors\"\n",
    "\n",
    "hf_hub_download(repo_id=\"runwayml/stable-diffusion-v1-5\", filename=model_filename, local_dir=model_path)\n"
   ]
  },
  {
   "attachments": {},
   "cell_type": "markdown",
   "metadata": {},
   "source": [
    "**Step 4: Load Model & Define Image Generation Function**"
   ]
  },
  {
   "cell_type": "code",
   "execution_count": 5,
   "metadata": {},
   "outputs": [],
   "source": [
    "import torch\n",
    "from diffusers import StableDiffusionPipeline\n",
    "from PIL import Image\n",
    "import IPython.display as display\n",
    "\n",
    "# Load Stable Diffusion v1.5 Model\n",
    "model_id = \"runwayml/stable-diffusion-v1-5\"\n",
    "pipe = StableDiffusionPipeline.from_pretrained(model_id, torch_dtype=torch.float16)\n",
    "pipe.to(\"cuda\")  # Use GPU for better performance\n",
    "\n",
    "def generate_image(prompt):\n",
    "    \"\"\"\n",
    "    Generate an image using Stable Diffusion v1.5 based on user input.\n",
    "\n",
    "    Args:\n",
    "        prompt (str): The text prompt to guide image generation.\n",
    "    \"\"\"\n",
    "    print(f\"Generating image for prompt: {prompt}\")\n",
    "    \n",
    "    # Generate image\n",
    "    image = pipe(prompt, guidance_scale=7.5).images[0]\n",
    "    \n",
    "    # Save and display image\n",
    "    output_path = \"generated_image.png\"\n",
    "    image.save(output_path)\n",
    "    \n",
    "    # Show image in Colab\n",
    "    display.display(image)\n",
    "\n",
    "    return output_path\n"
   ]
  },
  {
   "attachments": {},
   "cell_type": "markdown",
   "metadata": {},
   "source": [
    "**Step 5: Run Image Generation**"
   ]
  },
  {
   "cell_type": "code",
   "execution_count": 6,
   "metadata": {},
   "outputs": [],
   "source": [
    "# Take user input for text prompt\n",
    "text_prompt = input(\"Enter your prompt: \")\n",
    "output_image_path = generate_image(text_prompt)"
   ]
  },
  {
   "attachments": {},
   "cell_type": "markdown",
   "metadata": {},
   "source": [
    "**Step 6: Download the Image**"
   ]
  },
  {
   "cell_type": "code",
   "execution_count": 7,
   "metadata": {},
   "outputs": [],
   "source": [
    "from google.colab import files\n",
    "files.download(output_image_path)"
   ]
  }
 ],
 "metadata": {
  "colab": {
   "provenance": []
  },
  "kernelspec": {
   "display_name": "Python 3 (ipykernel)",
   "language": "python",
   "name": "python3"
  },
  "language_info": {
   "codemirror_mode": {
    "name": "ipython",
    "version": 3
   },
   "file_extension": ".py",
   "mimetype": "text/x-python",
   "name": "python",
   "nbconvert_exporter": "python",
   "pygments_lexer": "ipython3",
   "version": "3.7.6"
  }
 },
 "nbformat": 4,
 "nbformat_minor": 4
}
